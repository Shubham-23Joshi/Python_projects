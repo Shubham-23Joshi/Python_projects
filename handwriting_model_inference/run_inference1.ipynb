{
 "cells": [
  {
   "cell_type": "markdown",
   "id": "3bf64e03-6df1-4e16-8d11-bd46cea35be8",
   "metadata": {},
   "source": [
    "code to run one time inference on handwritten digit images"
   ]
  },
  {
   "cell_type": "markdown",
   "id": "a9ec1e18-9f3f-444f-bfdb-d682770f973f",
   "metadata": {},
   "source": [
    "'# ->' means that particular cell is important and it has to be executed for inferencing"
   ]
  },
  {
   "cell_type": "code",
   "execution_count": null,
   "id": "eb150377-7023-432b-8900-0c8039fc6cdd",
   "metadata": {},
   "outputs": [],
   "source": [
    "!pip install pycoral"
   ]
  },
  {
   "cell_type": "code",
   "execution_count": 6,
   "id": "3fd95c5c-0057-4468-ba5d-de8945589fa8",
   "metadata": {},
   "outputs": [
    {
     "ename": "ModuleNotFoundError",
     "evalue": "No module named 'pycoral.utils'",
     "output_type": "error",
     "traceback": [
      "\u001b[1;31m---------------------------------------------------------------------------\u001b[0m",
      "\u001b[1;31mModuleNotFoundError\u001b[0m                       Traceback (most recent call last)",
      "Input \u001b[1;32mIn [6]\u001b[0m, in \u001b[0;36m<cell line: 8>\u001b[1;34m()\u001b[0m\n\u001b[0;32m      6\u001b[0m \u001b[38;5;28;01mimport\u001b[39;00m \u001b[38;5;21;01mmatplotlib\u001b[39;00m\u001b[38;5;21;01m.\u001b[39;00m\u001b[38;5;21;01mpyplot\u001b[39;00m \u001b[38;5;28;01mas\u001b[39;00m \u001b[38;5;21;01mplt\u001b[39;00m\n\u001b[0;32m      7\u001b[0m \u001b[38;5;28;01mfrom\u001b[39;00m \u001b[38;5;21;01mPIL\u001b[39;00m \u001b[38;5;28;01mimport\u001b[39;00m Image, ImageOps\n\u001b[1;32m----> 8\u001b[0m \u001b[38;5;28;01mfrom\u001b[39;00m \u001b[38;5;21;01mpycoral\u001b[39;00m\u001b[38;5;21;01m.\u001b[39;00m\u001b[38;5;21;01mutils\u001b[39;00m \u001b[38;5;28;01mimport\u001b[39;00m edgetpu\n\u001b[0;32m      9\u001b[0m \u001b[38;5;28;01mfrom\u001b[39;00m \u001b[38;5;21;01mpycoral\u001b[39;00m\u001b[38;5;21;01m.\u001b[39;00m\u001b[38;5;21;01mutils\u001b[39;00m \u001b[38;5;28;01mimport\u001b[39;00m dataset\n\u001b[0;32m     10\u001b[0m \u001b[38;5;28;01mfrom\u001b[39;00m \u001b[38;5;21;01mpycoral\u001b[39;00m\u001b[38;5;21;01m.\u001b[39;00m\u001b[38;5;21;01madapters\u001b[39;00m \u001b[38;5;28;01mimport\u001b[39;00m common\n",
      "\u001b[1;31mModuleNotFoundError\u001b[0m: No module named 'pycoral.utils'"
     ]
    }
   ],
   "source": [
    "# ->\n",
    "import os\n",
    "import cv2 as cv\n",
    "import pathlib\n",
    "import numpy as np\n",
    "import matplotlib.pyplot as plt\n",
    "from PIL import Image, ImageOps\n",
    "from pycoral.utils import edgetpu\n",
    "from pycoral.utils import dataset\n",
    "from pycoral.adapters import common\n",
    "from pycoral.adapters import classify\n"
   ]
  },
  {
   "cell_type": "code",
   "execution_count": 4,
   "id": "4356e343-9769-475c-8c07-de155100493c",
   "metadata": {},
   "outputs": [],
   "source": [
    "# ->\n",
    "# Specify the TensorFlow model, labels, and image\n",
    "model_file = 'handwriting_model2_quant_edgetpu.tflite'\n",
    "label_file = 'digits_labels.txt'\n",
    "image_file = '2_img.GIF'"
   ]
  },
  {
   "cell_type": "code",
   "execution_count": 41,
   "id": "53ad05fb-cdac-4722-857e-5047220769e2",
   "metadata": {},
   "outputs": [],
   "source": [
    "# ->\n",
    "# Initialize the TF interpreter\n",
    "interpreter = edgetpu.make_interpreter(model_file)\n",
    "interpreter.allocate_tensors()\n"
   ]
  },
  {
   "cell_type": "code",
   "execution_count": 42,
   "id": "12578acc-6c13-4aba-91bd-d60cb0280991",
   "metadata": {},
   "outputs": [
    {
     "name": "stdout",
     "output_type": "stream",
     "text": [
      "model is quantized, ready to use\n"
     ]
    }
   ],
   "source": [
    "# ->\n",
    "# Model must be uint8 quantized\n",
    "if common.input_details(interpreter, 'dtype') != np.uint8:\n",
    "    raise ValueError('Only support uint8 input type.')\n",
    "else:\n",
    "    print('model is quantized, ready to use')"
   ]
  },
  {
   "cell_type": "code",
   "execution_count": 12,
   "id": "0fcfaad8-1bd4-498a-99d8-381e0de38a32",
   "metadata": {},
   "outputs": [],
   "source": [
    "# testing image\n",
    "try: \n",
    "    img  = Image.open(image_file) \n",
    "    img.show()\n",
    "except IOError:\n",
    "    pass"
   ]
  },
  {
   "cell_type": "code",
   "execution_count": 66,
   "id": "5b7ddc98-2253-4732-9510-2de61f3d18d9",
   "metadata": {},
   "outputs": [
    {
     "name": "stdout",
     "output_type": "stream",
     "text": [
      "(28, 28)\n"
     ]
    }
   ],
   "source": [
    "# Resize the image\n",
    "size = common.input_size(interpreter)\n",
    "print(size)\n",
    "image = Image.open(image_file).convert('RGB').resize(size, Image.ANTIALIAS)\n",
    "img_array = np.array(Image.open(image_file).convert('RGB').resize(size, Image.ANTIALIAS))\n",
    "#print(image.size)\n"
   ]
  },
  {
   "cell_type": "code",
   "execution_count": 7,
   "id": "e3020d07-07ba-43ab-8935-42391ff892a0",
   "metadata": {},
   "outputs": [
    {
     "data": {
      "text/plain": [
       "(28, 28)"
      ]
     },
     "execution_count": 7,
     "metadata": {},
     "output_type": "execute_result"
    }
   ],
   "source": [
    "# ->\n",
    "# resizing with greyscale\n",
    "size = common.input_size(interpreter)\n",
    "#image = Image.open(image_file).convert('L').resize(size, Image.ANTIALIAS)\n",
    "grey_img = ImageOps.grayscale(Image.open(image_file).convert('RGB').resize(size, Image.ANTIALIAS))\n",
    "img_array = np.array(grey_img)\n",
    "img_array.shape"
   ]
  },
  {
   "cell_type": "code",
   "execution_count": 44,
   "id": "d15c4e07-d33b-4690-bda1-ed9c0700f7d3",
   "metadata": {},
   "outputs": [
    {
     "data": {
      "text/plain": [
       "<matplotlib.image.AxesImage at 0xffff3bd4f710>"
      ]
     },
     "execution_count": 44,
     "metadata": {},
     "output_type": "execute_result"
    },
    {
     "data": {
      "image/png": "[encoded data removed]",
      "text/plain": [
       "<Figure size 504x216 with 2 Axes>"
      ]
     },
     "metadata": {
      "needs_background": "light"
     },
     "output_type": "display_data"
    }
   ],
   "source": [
    "# plotting the images\n",
    "fig = plt.figure(figsize=(7, 3))\n",
    "\n",
    "fig.add_subplot(1, 2, 1)\n",
    "plt.imshow(Image.open(image_file))\n",
    "plt.axis('off')\n",
    "plt.title(\"Raw Image\")\n",
    "\n",
    "fig.add_subplot(1, 2, 2)\n",
    "plt.axis('off')\n",
    "plt.title(\"Processed Image\")\n",
    "plt.imshow(img_array, cmap='gray')"
   ]
  },
  {
   "cell_type": "code",
   "execution_count": 8,
   "id": "e29627c8-ec0c-453d-b54f-14b2b9f22061",
   "metadata": {},
   "outputs": [
    {
     "ename": "AttributeError",
     "evalue": "'NoneType' object has no attribute 'shape'",
     "output_type": "error",
     "traceback": [
      "\u001b[0;31m---------------------------------------------------------------------------\u001b[0m",
      "\u001b[0;31mAttributeError\u001b[0m                            Traceback (most recent call last)",
      "\u001b[0;32m/tmp/ipykernel_4093/2412998961.py\u001b[0m in \u001b[0;36m<module>\u001b[0;34m\u001b[0m\n\u001b[1;32m      1\u001b[0m \u001b[0;31m# getting image size\u001b[0m\u001b[0;34m\u001b[0m\u001b[0;34m\u001b[0m\u001b[0;34m\u001b[0m\u001b[0m\n\u001b[1;32m      2\u001b[0m \u001b[0mim\u001b[0m \u001b[0;34m=\u001b[0m \u001b[0mcv\u001b[0m\u001b[0;34m.\u001b[0m\u001b[0mimread\u001b[0m\u001b[0;34m(\u001b[0m\u001b[0;34m'1_img.GIF'\u001b[0m\u001b[0;34m)\u001b[0m\u001b[0;34m\u001b[0m\u001b[0;34m\u001b[0m\u001b[0m\n\u001b[0;32m----> 3\u001b[0;31m \u001b[0mprint\u001b[0m\u001b[0;34m(\u001b[0m\u001b[0mim\u001b[0m\u001b[0;34m.\u001b[0m\u001b[0mshape\u001b[0m\u001b[0;34m)\u001b[0m\u001b[0;34m\u001b[0m\u001b[0;34m\u001b[0m\u001b[0m\n\u001b[0m",
      "\u001b[0;31mAttributeError\u001b[0m: 'NoneType' object has no attribute 'shape'"
     ]
    }
   ],
   "source": [
    "# getting image size \n",
    "im = cv.imread('1_img.GIF')\n",
    "print(im.shape)"
   ]
  },
  {
   "cell_type": "code",
   "execution_count": 45,
   "id": "38926374-7c1a-4755-8a46-5bd4fc11eaf0",
   "metadata": {},
   "outputs": [
    {
     "ename": "ValueError",
     "evalue": "setting an array element with a sequence.",
     "output_type": "error",
     "traceback": [
      "\u001b[0;31m---------------------------------------------------------------------------\u001b[0m",
      "\u001b[0;31mTypeError\u001b[0m                                 Traceback (most recent call last)",
      "\u001b[0;31mTypeError\u001b[0m: only size-1 arrays can be converted to Python scalars",
      "\nThe above exception was the direct cause of the following exception:\n",
      "\u001b[0;31mValueError\u001b[0m                                Traceback (most recent call last)",
      "\u001b[0;32m/tmp/ipykernel_4549/560130873.py\u001b[0m in \u001b[0;36m<module>\u001b[0;34m\u001b[0m\n\u001b[1;32m      5\u001b[0m \u001b[0;32mfor\u001b[0m \u001b[0mrow\u001b[0m \u001b[0;32min\u001b[0m \u001b[0mrange\u001b[0m\u001b[0;34m(\u001b[0m\u001b[0;36m0\u001b[0m\u001b[0;34m,\u001b[0m\u001b[0;36m27\u001b[0m\u001b[0;34m)\u001b[0m\u001b[0;34m:\u001b[0m\u001b[0;34m\u001b[0m\u001b[0;34m\u001b[0m\u001b[0m\n\u001b[1;32m      6\u001b[0m     \u001b[0;32mfor\u001b[0m \u001b[0mcol\u001b[0m \u001b[0;32min\u001b[0m \u001b[0mrange\u001b[0m\u001b[0;34m(\u001b[0m\u001b[0;36m0\u001b[0m\u001b[0;34m,\u001b[0m\u001b[0;36m27\u001b[0m\u001b[0;34m)\u001b[0m\u001b[0;34m:\u001b[0m\u001b[0;34m\u001b[0m\u001b[0;34m\u001b[0m\u001b[0m\n\u001b[0;32m----> 7\u001b[0;31m         \u001b[0ma\u001b[0m\u001b[0;34m[\u001b[0m\u001b[0mrow\u001b[0m\u001b[0;34m]\u001b[0m\u001b[0;34m[\u001b[0m\u001b[0mcol\u001b[0m\u001b[0;34m]\u001b[0m\u001b[0;34m[\u001b[0m\u001b[0;36m0\u001b[0m\u001b[0;34m]\u001b[0m \u001b[0;34m=\u001b[0m \u001b[0mimg_array\u001b[0m\u001b[0;34m[\u001b[0m\u001b[0mrow\u001b[0m\u001b[0;34m]\u001b[0m\u001b[0;34m[\u001b[0m\u001b[0mcol\u001b[0m\u001b[0;34m]\u001b[0m\u001b[0;34m\u001b[0m\u001b[0;34m\u001b[0m\u001b[0m\n\u001b[0m\u001b[1;32m      8\u001b[0m \u001b[0;34m\u001b[0m\u001b[0m\n\u001b[1;32m      9\u001b[0m \u001b[0mprint\u001b[0m\u001b[0;34m(\u001b[0m\u001b[0ma\u001b[0m\u001b[0;34m)\u001b[0m\u001b[0;34m\u001b[0m\u001b[0;34m\u001b[0m\u001b[0m\n",
      "\u001b[0;31mValueError\u001b[0m: setting an array element with a sequence."
     ]
    }
   ],
   "source": [
    "# broadcasting array\n",
    "#image = np.array(np.zeros((28, 28)), np.ones((28,1))) + image\n",
    "a = np.zeros((28,28,1))\n",
    "\n",
    "for row in range(0,27):\n",
    "    for col in range(0,27):\n",
    "        a[row][col][0] = img_array[row][col]\n",
    "\n",
    "print(a)\n",
    "#print(img_array.shape)"
   ]
  },
  {
   "cell_type": "code",
   "execution_count": 9,
   "id": "79a44271-b7b8-4ced-b468-9b015d76c94e",
   "metadata": {},
   "outputs": [
    {
     "data": {
      "text/plain": [
       "(28, 28, 1)"
      ]
     },
     "execution_count": 9,
     "metadata": {},
     "output_type": "execute_result"
    }
   ],
   "source": [
    "# ->\n",
    "# first broadcasting img_array to fit dimentions (28, 28, 1)\n",
    "img_array = img_array.reshape((28,28,1))\n",
    "img_array.shape"
   ]
  },
  {
   "cell_type": "code",
   "execution_count": 67,
   "id": "859942cb-b80c-40ad-a408-d53b66cd12cd",
   "metadata": {},
   "outputs": [],
   "source": [
    "# default parameters for manual input processing\n",
    "top_k = 1\n",
    "threshold = 0.0\n",
    "count = 1\n",
    "input_mean = 128.0\n",
    "input_std = 128.0"
   ]
  },
  {
   "cell_type": "code",
   "execution_count": 70,
   "id": "6079d5ba-c873-4b20-aa17-657fb5a9a0eb",
   "metadata": {},
   "outputs": [
    {
     "name": "stdout",
     "output_type": "stream",
     "text": [
      "{'scales': array([1.], dtype=float32), 'zero_points': array([0], dtype=int32), 'quantized_dimension': 0}\n",
      "image preprocessed\n"
     ]
    }
   ],
   "source": [
    "# Manual image preprocessing - 2 transformations: normalization and quantization\n",
    "# combined in 1 line: q = (input - mean) / (std * scale) + zero_point\n",
    "# 1e-5 used instead of 0 to prevent division by 0 error\n",
    "params = common.input_details(interpreter, 'quantization_parameters')\n",
    "print(params)\n",
    "scale = params['scales']\n",
    "zero_point = params['zero_points']\n",
    "\n",
    "# default parameters used\n",
    "mean = input_mean\n",
    "std = input_std\n",
    "\n",
    "if abs(scale * std - 1) < 1e-5 and abs(mean - zero_point) < 1e-5:\n",
    "    # Input data does not require preprocessing.\n",
    "    print('no preprocessing required')\n",
    "    common.set_input(interpreter, image)\n",
    "else:\n",
    "    # Input data requires preprocessing\n",
    "    print('image preprocessed')\n",
    "    img_array = img_array.reshape((28,28,1))\n",
    "    normalized_input = (img_array - mean) / (std * scale) + zero_point\n",
    "    np.clip(normalized_input, 0, 255, out=normalized_input)\n",
    "    common.set_input(interpreter, normalized_input.astype(np.uint8))\n"
   ]
  },
  {
   "cell_type": "code",
   "execution_count": 46,
   "id": "72ef95e1-df9b-4717-bfd4-b616fe781e64",
   "metadata": {},
   "outputs": [
    {
     "name": "stdout",
     "output_type": "stream",
     "text": [
      "[Class(id=2, score=0.859375)]\n"
     ]
    }
   ],
   "source": [
    "# ->\n",
    "# Run an inference\n",
    "common.set_input(interpreter, img_array)\n",
    "interpreter.invoke()\n",
    "classes = classify.get_classes(interpreter, top_k=1)\n",
    "print(classes)"
   ]
  },
  {
   "cell_type": "code",
   "execution_count": 47,
   "id": "33a13716-937e-44c7-bb92-c67e9105a38c",
   "metadata": {},
   "outputs": [
    {
     "name": "stdout",
     "output_type": "stream",
     "text": [
      "class | score\n",
      "2     | 0.85938\n"
     ]
    }
   ],
   "source": [
    "# Print the result\n",
    "labels = dataset.read_label_file(label_file)\n",
    "print(\"class | score\")\n",
    "for c in classes:\n",
    "    print('%s     | %.5f' % (labels.get(c.id, c.id), c.score))\n",
    "    #print(c.score)"
   ]
  }
 ],
 "metadata": {
  "kernelspec": {
   "display_name": "Python 3 (ipykernel)",
   "language": "python",
   "name": "python3"
  },
  "language_info": {
   "codemirror_mode": {
    "name": "ipython",
    "version": 3
   },
   "file_extension": ".py",
   "mimetype": "text/x-python",
   "name": "python",
   "nbconvert_exporter": "python",
   "pygments_lexer": "ipython3",
   "version": "3.10.3"
  }
 },
 "nbformat": 4,
 "nbformat_minor": 5
}
