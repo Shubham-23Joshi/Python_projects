{
 "cells": [
  {
   "cell_type": "code",
   "execution_count": 1,
   "id": "836751b6-785d-4d01-ba6b-9195c27098cf",
   "metadata": {},
   "outputs": [
    {
     "name": "stdout",
     "output_type": "stream",
     "text": [
      "1_img.GIF\n",
      "2_img.GIF\n",
      "5_img.GIF\n",
      "camera_stream_test.py\n",
      "digits_labels.txt\n",
      "handwriting_model2_quant_edgetpu.tflite\n",
      "run_inference1.ipynb\n",
      "run_inf_videostream.ipynb\n",
      "run_inf_vid_pygame.ipynb\n",
      "Untitled.ipynb\n"
     ]
    }
   ],
   "source": [
    "!tar chvfz notebook.tar.gz *"
   ]
  },
  {
   "cell_type": "code",
   "execution_count": null,
   "id": "45960392-ff73-423d-b29d-cb19d540a48c",
   "metadata": {},
   "outputs": [],
   "source": []
  }
 ],
 "metadata": {
  "kernelspec": {
   "display_name": "Python 3 (ipykernel)",
   "language": "python",
   "name": "python3"
  },
  "language_info": {
   "codemirror_mode": {
    "name": "ipython",
    "version": 3
   },
   "file_extension": ".py",
   "mimetype": "text/x-python",
   "name": "python",
   "nbconvert_exporter": "python",
   "pygments_lexer": "ipython3",
   "version": "3.7.3"
  }
 },
 "nbformat": 4,
 "nbformat_minor": 5
}
